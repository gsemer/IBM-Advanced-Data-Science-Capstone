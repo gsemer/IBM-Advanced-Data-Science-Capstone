{
 "cells": [
  {
   "cell_type": "markdown",
   "metadata": {},
   "source": [
    "# Task 1: Movies Recommender System"
   ]
  },
  {
   "cell_type": "markdown",
   "metadata": {},
   "source": [
    "The first part of the IBM capstone project focuses on creating a system that recommends to a user movies according to his preferrences. This kind of systems are being used by famous companies such that NetFlix. \n",
    "At the beginning i explain step by step the procedure to convert my original dataset into a new converted one that will be systematically used for the remaining task. Also, i provide a new unlabeled test data set which contains two movies. The goal is to show the top 20 movies that are similar to them.     "
   ]
  },
  {
   "cell_type": "code",
   "execution_count": 1,
   "metadata": {},
   "outputs": [],
   "source": [
    "import pandas as pd\n",
    "import random\n",
    "import matplotlib.pyplot as plt"
   ]
  },
  {
   "cell_type": "markdown",
   "metadata": {},
   "source": [
    "# 1) Extract and load dataset into a pandas dataframe"
   ]
  },
  {
   "cell_type": "code",
   "execution_count": 2,
   "metadata": {},
   "outputs": [
    {
     "data": {
      "text/html": [
       "<div>\n",
       "<style scoped>\n",
       "    .dataframe tbody tr th:only-of-type {\n",
       "        vertical-align: middle;\n",
       "    }\n",
       "\n",
       "    .dataframe tbody tr th {\n",
       "        vertical-align: top;\n",
       "    }\n",
       "\n",
       "    .dataframe thead th {\n",
       "        text-align: right;\n",
       "    }\n",
       "</style>\n",
       "<table border=\"1\" class=\"dataframe\">\n",
       "  <thead>\n",
       "    <tr style=\"text-align: right;\">\n",
       "      <th></th>\n",
       "      <th>Id</th>\n",
       "      <th>title</th>\n",
       "      <th>genres</th>\n",
       "    </tr>\n",
       "  </thead>\n",
       "  <tbody>\n",
       "    <tr>\n",
       "      <th>0</th>\n",
       "      <td>1</td>\n",
       "      <td>Toy Story (1995)</td>\n",
       "      <td>Adventure|Animation|Children|Comedy|Fantasy</td>\n",
       "    </tr>\n",
       "    <tr>\n",
       "      <th>1</th>\n",
       "      <td>2</td>\n",
       "      <td>Jumanji (1995)</td>\n",
       "      <td>Adventure|Children|Fantasy</td>\n",
       "    </tr>\n",
       "    <tr>\n",
       "      <th>2</th>\n",
       "      <td>3</td>\n",
       "      <td>Grumpier Old Men (1995)</td>\n",
       "      <td>Comedy|Romance</td>\n",
       "    </tr>\n",
       "    <tr>\n",
       "      <th>3</th>\n",
       "      <td>4</td>\n",
       "      <td>Waiting to Exhale (1995)</td>\n",
       "      <td>Comedy|Drama|Romance</td>\n",
       "    </tr>\n",
       "    <tr>\n",
       "      <th>4</th>\n",
       "      <td>5</td>\n",
       "      <td>Father of the Bride Part II (1995)</td>\n",
       "      <td>Comedy</td>\n",
       "    </tr>\n",
       "  </tbody>\n",
       "</table>\n",
       "</div>"
      ],
      "text/plain": [
       "   Id                               title  \\\n",
       "0   1                    Toy Story (1995)   \n",
       "1   2                      Jumanji (1995)   \n",
       "2   3             Grumpier Old Men (1995)   \n",
       "3   4            Waiting to Exhale (1995)   \n",
       "4   5  Father of the Bride Part II (1995)   \n",
       "\n",
       "                                        genres  \n",
       "0  Adventure|Animation|Children|Comedy|Fantasy  \n",
       "1                   Adventure|Children|Fantasy  \n",
       "2                               Comedy|Romance  \n",
       "3                         Comedy|Drama|Romance  \n",
       "4                                       Comedy  "
      ]
     },
     "execution_count": 2,
     "metadata": {},
     "output_type": "execute_result"
    }
   ],
   "source": [
    "df = pd.read_csv('original data/movies.csv')\n",
    "df.head(5)"
   ]
  },
  {
   "cell_type": "code",
   "execution_count": 3,
   "metadata": {},
   "outputs": [
    {
     "data": {
      "text/plain": [
       "9810"
      ]
     },
     "execution_count": 3,
     "metadata": {},
     "output_type": "execute_result"
    }
   ],
   "source": [
    "def count(df):\n",
    "    return len(df.values)\n",
    "count(df)"
   ]
  },
  {
   "cell_type": "markdown",
   "metadata": {},
   "source": [
    "# 2) Create new dataset"
   ]
  },
  {
   "cell_type": "code",
   "execution_count": 4,
   "metadata": {},
   "outputs": [],
   "source": [
    "# This is a method to obtain all the titles and store them into a list\n",
    "\n",
    "def titles(data):\n",
    "    titles = []\n",
    "    for i in range(len(data.values)):\n",
    "        get = data['title'].iloc[i].split(' ')\n",
    "        title = ''\n",
    "        if len(get) > 1:\n",
    "            for index in range(len(get)):\n",
    "                title = title + ' ' + get[index]\n",
    "        titles.append(title)\n",
    "    return titles\n",
    "titles = titles(df)"
   ]
  },
  {
   "cell_type": "code",
   "execution_count": 5,
   "metadata": {},
   "outputs": [
    {
     "data": {
      "text/plain": [
       "['Adventure',\n",
       " 'Animation',\n",
       " 'Children',\n",
       " 'Comedy',\n",
       " 'Fantasy',\n",
       " 'Romance',\n",
       " 'Drama',\n",
       " 'Action',\n",
       " 'Crime',\n",
       " 'Thriller',\n",
       " 'Horror',\n",
       " 'Mystery',\n",
       " 'Sci-Fi',\n",
       " 'War',\n",
       " 'Musical',\n",
       " 'Documentary',\n",
       " 'IMAX',\n",
       " 'Western',\n",
       " 'Film-Noir']"
      ]
     },
     "execution_count": 5,
     "metadata": {},
     "output_type": "execute_result"
    }
   ],
   "source": [
    "# This is a method to obtain all the different genres and store them into a list\n",
    "\n",
    "def genres(data):\n",
    "    genres = []\n",
    "    for i in range(len(data.values)):\n",
    "        get = data['genres'].iloc[i].split('|')\n",
    "        for element in get:\n",
    "            if element not in genres:\n",
    "                genres.append(element)\n",
    "    return genres\n",
    "genres = genres(df)\n",
    "genres"
   ]
  },
  {
   "cell_type": "code",
   "execution_count": 6,
   "metadata": {},
   "outputs": [],
   "source": [
    "def foundOrNot(data, category):\n",
    "    column = []\n",
    "    for i in range(len(data.values)):\n",
    "        if category in data['genres'].iloc[i]:\n",
    "            column.append(1)\n",
    "        else:\n",
    "            column.append(0)\n",
    "    return column\n",
    "\n",
    "action = foundOrNot(df, 'Action')\n",
    "drama = foundOrNot(df, 'Drama')\n",
    "adventure = foundOrNot(df, 'Adventure')\n",
    "science_fiction = foundOrNot(df, 'Sci-Fi')\n",
    "fantasy = foundOrNot(df, 'Fantasy')\n",
    "comedy = foundOrNot(df, 'Comedy')\n",
    "romance = foundOrNot(df, 'Romance')\n",
    "thriller = foundOrNot(df, 'Thriller')\n",
    "crime = foundOrNot(df, 'Crime')\n",
    "war = foundOrNot(df, 'War')\n",
    "mystery = foundOrNot(df, 'Mystery')\n",
    "animation = foundOrNot(df, 'Animation')\n",
    "children = foundOrNot(df, 'Children')\n",
    "horror = foundOrNot(df, 'Horror')\n",
    "musical = foundOrNot(df, 'Musical')\n",
    "documentary = foundOrNot(df, 'Documentary')\n",
    "i_max = foundOrNot(df, 'IMAX')\n",
    "western = foundOrNot(df, 'Western')\n",
    "film = foundOrNot(df, 'Film-Noir')"
   ]
  },
  {
   "cell_type": "code",
   "execution_count": 7,
   "metadata": {},
   "outputs": [],
   "source": [
    "# create random ratings for each movie\n",
    "\n",
    "ratings = []\n",
    "for i in range(len(df.values)):\n",
    "    ratings.append(round(random.uniform(0.0,10.0),1))"
   ]
  },
  {
   "cell_type": "code",
   "execution_count": 8,
   "metadata": {},
   "outputs": [],
   "source": [
    "# obtain a special category for each movie based on its rating \n",
    "\n",
    "categories = []\n",
    "for i in range(len(ratings)):\n",
    "    if ratings[i] >= 0.0 and ratings[i] < 2.5:\n",
    "        categories.append(0)\n",
    "    elif ratings[i] >= 2.5 and ratings[i] < 5.0:\n",
    "        categories.append(1)\n",
    "    elif ratings[i] >= 5.0 and ratings[i] < 7.5:\n",
    "        categories.append(2)\n",
    "    else:\n",
    "        categories.append(3)\n",
    "        \n",
    "# 0 stands for the worst movies\n",
    "# 1 stands for bad movies\n",
    "# 2 stands for good movies\n",
    "# 3 stands for the best movies"
   ]
  },
  {
   "cell_type": "code",
   "execution_count": 9,
   "metadata": {},
   "outputs": [
    {
     "data": {
      "text/html": [
       "<div>\n",
       "<style scoped>\n",
       "    .dataframe tbody tr th:only-of-type {\n",
       "        vertical-align: middle;\n",
       "    }\n",
       "\n",
       "    .dataframe tbody tr th {\n",
       "        vertical-align: top;\n",
       "    }\n",
       "\n",
       "    .dataframe thead th {\n",
       "        text-align: right;\n",
       "    }\n",
       "</style>\n",
       "<table border=\"1\" class=\"dataframe\">\n",
       "  <thead>\n",
       "    <tr style=\"text-align: right;\">\n",
       "      <th></th>\n",
       "      <th>Id</th>\n",
       "      <th>Title</th>\n",
       "      <th>Action</th>\n",
       "      <th>Drama</th>\n",
       "      <th>Adventure</th>\n",
       "      <th>Sci-Fi</th>\n",
       "      <th>Fantasy</th>\n",
       "      <th>Comedy</th>\n",
       "      <th>Romance</th>\n",
       "      <th>Thriller</th>\n",
       "      <th>...</th>\n",
       "      <th>Animation</th>\n",
       "      <th>Children</th>\n",
       "      <th>Horror</th>\n",
       "      <th>Musical</th>\n",
       "      <th>Documentary</th>\n",
       "      <th>IMAX</th>\n",
       "      <th>Western</th>\n",
       "      <th>Film-Noir</th>\n",
       "      <th>Ratings</th>\n",
       "      <th>Label</th>\n",
       "    </tr>\n",
       "  </thead>\n",
       "  <tbody>\n",
       "    <tr>\n",
       "      <th>0</th>\n",
       "      <td>1</td>\n",
       "      <td>Toy Story (1995)</td>\n",
       "      <td>0</td>\n",
       "      <td>0</td>\n",
       "      <td>1</td>\n",
       "      <td>0</td>\n",
       "      <td>1</td>\n",
       "      <td>1</td>\n",
       "      <td>0</td>\n",
       "      <td>0</td>\n",
       "      <td>...</td>\n",
       "      <td>1</td>\n",
       "      <td>1</td>\n",
       "      <td>0</td>\n",
       "      <td>0</td>\n",
       "      <td>0</td>\n",
       "      <td>0</td>\n",
       "      <td>0</td>\n",
       "      <td>0</td>\n",
       "      <td>2.0</td>\n",
       "      <td>0</td>\n",
       "    </tr>\n",
       "    <tr>\n",
       "      <th>1</th>\n",
       "      <td>2</td>\n",
       "      <td>Jumanji (1995)</td>\n",
       "      <td>0</td>\n",
       "      <td>0</td>\n",
       "      <td>1</td>\n",
       "      <td>0</td>\n",
       "      <td>1</td>\n",
       "      <td>0</td>\n",
       "      <td>0</td>\n",
       "      <td>0</td>\n",
       "      <td>...</td>\n",
       "      <td>0</td>\n",
       "      <td>1</td>\n",
       "      <td>0</td>\n",
       "      <td>0</td>\n",
       "      <td>0</td>\n",
       "      <td>0</td>\n",
       "      <td>0</td>\n",
       "      <td>0</td>\n",
       "      <td>4.1</td>\n",
       "      <td>1</td>\n",
       "    </tr>\n",
       "    <tr>\n",
       "      <th>2</th>\n",
       "      <td>3</td>\n",
       "      <td>Grumpier Old Men (1995)</td>\n",
       "      <td>0</td>\n",
       "      <td>0</td>\n",
       "      <td>0</td>\n",
       "      <td>0</td>\n",
       "      <td>0</td>\n",
       "      <td>1</td>\n",
       "      <td>1</td>\n",
       "      <td>0</td>\n",
       "      <td>...</td>\n",
       "      <td>0</td>\n",
       "      <td>0</td>\n",
       "      <td>0</td>\n",
       "      <td>0</td>\n",
       "      <td>0</td>\n",
       "      <td>0</td>\n",
       "      <td>0</td>\n",
       "      <td>0</td>\n",
       "      <td>4.8</td>\n",
       "      <td>1</td>\n",
       "    </tr>\n",
       "    <tr>\n",
       "      <th>3</th>\n",
       "      <td>4</td>\n",
       "      <td>Waiting to Exhale (1995)</td>\n",
       "      <td>0</td>\n",
       "      <td>1</td>\n",
       "      <td>0</td>\n",
       "      <td>0</td>\n",
       "      <td>0</td>\n",
       "      <td>1</td>\n",
       "      <td>1</td>\n",
       "      <td>0</td>\n",
       "      <td>...</td>\n",
       "      <td>0</td>\n",
       "      <td>0</td>\n",
       "      <td>0</td>\n",
       "      <td>0</td>\n",
       "      <td>0</td>\n",
       "      <td>0</td>\n",
       "      <td>0</td>\n",
       "      <td>0</td>\n",
       "      <td>2.6</td>\n",
       "      <td>1</td>\n",
       "    </tr>\n",
       "    <tr>\n",
       "      <th>4</th>\n",
       "      <td>5</td>\n",
       "      <td>Father of the Bride Part II (1995)</td>\n",
       "      <td>0</td>\n",
       "      <td>0</td>\n",
       "      <td>0</td>\n",
       "      <td>0</td>\n",
       "      <td>0</td>\n",
       "      <td>1</td>\n",
       "      <td>0</td>\n",
       "      <td>0</td>\n",
       "      <td>...</td>\n",
       "      <td>0</td>\n",
       "      <td>0</td>\n",
       "      <td>0</td>\n",
       "      <td>0</td>\n",
       "      <td>0</td>\n",
       "      <td>0</td>\n",
       "      <td>0</td>\n",
       "      <td>0</td>\n",
       "      <td>8.6</td>\n",
       "      <td>3</td>\n",
       "    </tr>\n",
       "  </tbody>\n",
       "</table>\n",
       "<p>5 rows × 23 columns</p>\n",
       "</div>"
      ],
      "text/plain": [
       "   Id                                Title  Action  Drama  Adventure  Sci-Fi  \\\n",
       "0   1                     Toy Story (1995)       0      0          1       0   \n",
       "1   2                       Jumanji (1995)       0      0          1       0   \n",
       "2   3              Grumpier Old Men (1995)       0      0          0       0   \n",
       "3   4             Waiting to Exhale (1995)       0      1          0       0   \n",
       "4   5   Father of the Bride Part II (1995)       0      0          0       0   \n",
       "\n",
       "   Fantasy  Comedy  Romance  Thriller  ...  Animation  Children  Horror  \\\n",
       "0        1       1        0         0  ...          1         1       0   \n",
       "1        1       0        0         0  ...          0         1       0   \n",
       "2        0       1        1         0  ...          0         0       0   \n",
       "3        0       1        1         0  ...          0         0       0   \n",
       "4        0       1        0         0  ...          0         0       0   \n",
       "\n",
       "   Musical  Documentary  IMAX  Western  Film-Noir  Ratings  Label  \n",
       "0        0            0     0        0          0      2.0      0  \n",
       "1        0            0     0        0          0      4.1      1  \n",
       "2        0            0     0        0          0      4.8      1  \n",
       "3        0            0     0        0          0      2.6      1  \n",
       "4        0            0     0        0          0      8.6      3  \n",
       "\n",
       "[5 rows x 23 columns]"
      ]
     },
     "execution_count": 9,
     "metadata": {},
     "output_type": "execute_result"
    }
   ],
   "source": [
    "# the new dataset will have as its columns all the genres separately, the ratings and the categories\n",
    "\n",
    "dictionary = {'Id': df['Id'],\n",
    "              'Title': titles,\n",
    "              'Action': action,\n",
    "              'Drama': drama,\n",
    "              'Adventure': adventure,\n",
    "              'Sci-Fi': science_fiction,\n",
    "              'Fantasy': fantasy,\n",
    "              'Comedy': comedy,\n",
    "              'Romance': romance,\n",
    "              'Thriller': thriller,\n",
    "              'Crime': crime,\n",
    "              'War': war,\n",
    "              'Mystery': mystery,\n",
    "              'Animation': animation,\n",
    "              'Children': children,\n",
    "              'Horror': horror,\n",
    "              'Musical': musical,\n",
    "              'Documentary': documentary,\n",
    "              'IMAX': i_max,\n",
    "              'Western': western,\n",
    "              'Film-Noir': film,\n",
    "              'Ratings': ratings,\n",
    "              'Label': categories}\n",
    "converted = pd.DataFrame(dictionary)\n",
    "converted.head(5)"
   ]
  },
  {
   "cell_type": "code",
   "execution_count": 10,
   "metadata": {},
   "outputs": [],
   "source": [
    "# create a csv file for this dataset in my computer\n",
    "\n",
    "converted.to_csv('converted data/movies-converted.csv', header=True, index=False)"
   ]
  },
  {
   "cell_type": "markdown",
   "metadata": {},
   "source": [
    "# 3) Explore features"
   ]
  },
  {
   "cell_type": "code",
   "execution_count": 11,
   "metadata": {},
   "outputs": [
    {
     "data": {
      "image/png": "[encoded data removed]",
      "text/plain": [
       "<Figure size 1440x720 with 1 Axes>"
      ]
     },
     "metadata": {
      "needs_background": "light"
     },
     "output_type": "display_data"
    }
   ],
   "source": [
    "# find the total number of appearances of each genre\n",
    "\n",
    "genre_appearances = []\n",
    "for column in genres:\n",
    "    new = converted[converted[column] == 1]\n",
    "    genre_appearances.append(len(new.values))\n",
    "    \n",
    "# draw a countplot of genres\n",
    "\n",
    "plt.figure(figsize=(20,10))\n",
    "ax = plt.axes()\n",
    "ax.set(facecolor='lightgray')\n",
    "plt.bar(genres, genre_appearances)\n",
    "plt.xlabel('genres')\n",
    "plt.ylabel('# appearances per genre')\n",
    "plt.grid(True)\n",
    "plt.title('Countplot of genres')\n",
    "plt.show()"
   ]
  },
  {
   "cell_type": "code",
   "execution_count": 12,
   "metadata": {},
   "outputs": [
    {
     "data": {
      "image/png": "[encoded data removed]",
      "text/plain": [
       "<Figure size 1080x360 with 1 Axes>"
      ]
     },
     "metadata": {
      "needs_background": "light"
     },
     "output_type": "display_data"
    }
   ],
   "source": [
    "# draw a countplot to see how many movies have a specific rating\n",
    "\n",
    "keep_ratings = []\n",
    "keep_titles = []\n",
    "number = 0.0\n",
    "while number <= 10.0:\n",
    "    keep_ratings.append(number)\n",
    "    imdb = converted[converted['Ratings'] == number]   \n",
    "    keep_titles.append(len(imdb.values))\n",
    "    number = round(number + 0.1,1)\n",
    "plt.figure(figsize=(15,5))\n",
    "ax = plt.axes()\n",
    "ax.set(facecolor='lightgray')\n",
    "plt.scatter(keep_ratings,keep_titles,c='r')\n",
    "plt.xlabel('rating')\n",
    "plt.ylabel('# movies per rating')\n",
    "plt.grid(True)\n",
    "plt.title('Countplot of ratings')\n",
    "plt.show()"
   ]
  },
  {
   "cell_type": "markdown",
   "metadata": {},
   "source": [
    "# 4) Extract and load test dataset into a pandas dataframe"
   ]
  },
  {
   "cell_type": "code",
   "execution_count": 13,
   "metadata": {},
   "outputs": [
    {
     "data": {
      "text/html": [
       "<div>\n",
       "<style scoped>\n",
       "    .dataframe tbody tr th:only-of-type {\n",
       "        vertical-align: middle;\n",
       "    }\n",
       "\n",
       "    .dataframe tbody tr th {\n",
       "        vertical-align: top;\n",
       "    }\n",
       "\n",
       "    .dataframe thead th {\n",
       "        text-align: right;\n",
       "    }\n",
       "</style>\n",
       "<table border=\"1\" class=\"dataframe\">\n",
       "  <thead>\n",
       "    <tr style=\"text-align: right;\">\n",
       "      <th></th>\n",
       "      <th>Id</th>\n",
       "      <th>Title</th>\n",
       "      <th>Action</th>\n",
       "      <th>Drama</th>\n",
       "      <th>Adventure</th>\n",
       "      <th>Sci-Fi</th>\n",
       "      <th>Fantasy</th>\n",
       "      <th>Comedy</th>\n",
       "      <th>Romance</th>\n",
       "      <th>Thriller</th>\n",
       "      <th>...</th>\n",
       "      <th>Mystery</th>\n",
       "      <th>Animation</th>\n",
       "      <th>Children</th>\n",
       "      <th>Horror</th>\n",
       "      <th>Musical</th>\n",
       "      <th>Documentary</th>\n",
       "      <th>IMAX</th>\n",
       "      <th>Western</th>\n",
       "      <th>Film-Noir</th>\n",
       "      <th>Ratings</th>\n",
       "    </tr>\n",
       "  </thead>\n",
       "  <tbody>\n",
       "    <tr>\n",
       "      <th>0</th>\n",
       "      <td>1</td>\n",
       "      <td>The Incredible Hulk (2008)</td>\n",
       "      <td>1</td>\n",
       "      <td>0</td>\n",
       "      <td>0</td>\n",
       "      <td>1</td>\n",
       "      <td>1</td>\n",
       "      <td>0</td>\n",
       "      <td>0</td>\n",
       "      <td>0</td>\n",
       "      <td>...</td>\n",
       "      <td>0</td>\n",
       "      <td>0</td>\n",
       "      <td>0</td>\n",
       "      <td>0</td>\n",
       "      <td>0</td>\n",
       "      <td>0</td>\n",
       "      <td>0</td>\n",
       "      <td>0</td>\n",
       "      <td>0</td>\n",
       "      <td>7.3</td>\n",
       "    </tr>\n",
       "    <tr>\n",
       "      <th>1</th>\n",
       "      <td>2</td>\n",
       "      <td>Shutter Island (2010)</td>\n",
       "      <td>0</td>\n",
       "      <td>1</td>\n",
       "      <td>0</td>\n",
       "      <td>0</td>\n",
       "      <td>0</td>\n",
       "      <td>0</td>\n",
       "      <td>0</td>\n",
       "      <td>1</td>\n",
       "      <td>...</td>\n",
       "      <td>1</td>\n",
       "      <td>0</td>\n",
       "      <td>0</td>\n",
       "      <td>0</td>\n",
       "      <td>0</td>\n",
       "      <td>0</td>\n",
       "      <td>0</td>\n",
       "      <td>0</td>\n",
       "      <td>0</td>\n",
       "      <td>8.2</td>\n",
       "    </tr>\n",
       "  </tbody>\n",
       "</table>\n",
       "<p>2 rows × 22 columns</p>\n",
       "</div>"
      ],
      "text/plain": [
       "   Id                        Title  Action  Drama  Adventure  Sci-Fi  Fantasy  \\\n",
       "0   1   The Incredible Hulk (2008)       1      0          0       1        1   \n",
       "1   2        Shutter Island (2010)       0      1          0       0        0   \n",
       "\n",
       "   Comedy  Romance  Thriller  ...  Mystery  Animation  Children  Horror  \\\n",
       "0       0        0         0  ...        0          0         0       0   \n",
       "1       0        0         1  ...        1          0         0       0   \n",
       "\n",
       "   Musical  Documentary  IMAX  Western  Film-Noir  Ratings  \n",
       "0        0            0     0        0          0      7.3  \n",
       "1        0            0     0        0          0      8.2  \n",
       "\n",
       "[2 rows x 22 columns]"
      ]
     },
     "execution_count": 13,
     "metadata": {},
     "output_type": "execute_result"
    }
   ],
   "source": [
    "unseen_data = pd.read_csv('movies-unseen.csv')\n",
    "unseen_data"
   ]
  },
  {
   "cell_type": "markdown",
   "metadata": {},
   "source": [
    "# 5) Find the similar movies"
   ]
  },
  {
   "cell_type": "code",
   "execution_count": 14,
   "metadata": {},
   "outputs": [],
   "source": [
    "# this is a method to obtain four different dictionaries\n",
    "# 1. create a dictionary to store all the horizontal vectors of train set\n",
    "# 2. create a dictionary to store the actual titles\n",
    "# 3. create a dictionary to store the ratings of each movie\n",
    "# note that, for convenience, the above three dictionaries use the same keys\n",
    "# 4. create a dictionary to store all the horizontal vectors of test set\n",
    "\n",
    "def function(train, test):\n",
    "    # drop the unecessary columns\n",
    "    x = train.drop(['Id', 'Title', 'Ratings', 'Label'], axis=1)\n",
    "    y = test.drop(['Id', 'Title', 'Ratings'], axis=1)\n",
    "    x_new = ''\n",
    "    y_new = ''\n",
    "    for column in x.columns:\n",
    "        x[column] = x[column].astype(str)\n",
    "        x_new = x_new + ' ' + x[column]\n",
    "    for column in y.columns:\n",
    "        y[column] = y[column].astype(str)\n",
    "        y_new = y_new + ' ' + y[column]\n",
    "    train['Vector'] = x_new\n",
    "    test['Vector'] = y_new\n",
    "    #initialize a dictionary to store the vectors of train set\n",
    "    dictionary = {}\n",
    "    # initialize a dictionary to store the titles\n",
    "    normal_dictionary = {}\n",
    "    ratings = {}\n",
    "    count = 1\n",
    "    for i in range(len(train.values)):\n",
    "        temporary = []\n",
    "        for element in train['Vector'].iloc[i].split(' '):\n",
    "            temporary.append(element)\n",
    "        # the first element of temporary is an empty string\n",
    "        temporary.pop(0)\n",
    "        dictionary['m{}'.format(str(count))] = temporary\n",
    "        normal_dictionary['m{}'.format(str(count))] = train['Title'].iloc[i]\n",
    "        ratings['m{}'.format(str(count))] = train['Ratings'].iloc[i]\n",
    "        count += 1\n",
    "    #initialize a dictionary to store the vectors of test set\n",
    "    dictionary_new = {}\n",
    "    count = 1\n",
    "    for i in range(len(test.values)):\n",
    "        temporary = []\n",
    "        for element in test['Vector'].iloc[i].split(' '):\n",
    "            temporary.append(element)\n",
    "        temporary.pop(0)\n",
    "        dictionary_new['n{}'.format(str(count))] = temporary\n",
    "        count += 1\n",
    "    return ratings, normal_dictionary, dictionary, dictionary_new\n",
    "imdb_ratings, normal_train, set_train, set_test = function(converted, unseen_data)"
   ]
  },
  {
   "cell_type": "code",
   "execution_count": 15,
   "metadata": {},
   "outputs": [],
   "source": [
    "converted = converted.drop(['Vector'],1)\n",
    "unseen_data = unseen_data.drop(['Vector'],1)"
   ]
  },
  {
   "cell_type": "markdown",
   "metadata": {},
   "source": [
    "Assume that A, B are two sets. Then the jaccard similarity is obtained by the following equation\n",
    "\n",
    "# $$Jaccard(A, B) = \\frac{|A \\cap B|}{|A \\cup B|}$$"
   ]
  },
  {
   "cell_type": "code",
   "execution_count": 16,
   "metadata": {},
   "outputs": [],
   "source": [
    "# this method follows the above equation\n",
    "\n",
    "def jaccard_similarity(ratings, normal, train, test):\n",
    "    # initialize two lists: one for similar movies with thresold 0.95 and one for their actual ratings\n",
    "    storage = []\n",
    "    store_ratings = []\n",
    "    thresold = 0.95\n",
    "    for key_test in test.keys():\n",
    "        for key_train in train.keys():\n",
    "            m = len(test[key_test])\n",
    "            n = len(train[key_train])\n",
    "            a = 0\n",
    "            b = 0\n",
    "            if m == n:\n",
    "                for i in range(m):\n",
    "                    if test[key_test][i] == train[key_train][i]:\n",
    "                        a += 1\n",
    "                    b += 1\n",
    "                result = round(a/b, 3)\n",
    "                if result >= thresold:\n",
    "                    storage.append(normal[key_train])\n",
    "                    store_ratings.append(ratings[key_train])\n",
    "    return storage, store_ratings\n",
    "same, ratings_same = jaccard_similarity(imdb_ratings, normal_train, set_train, set_test)"
   ]
  },
  {
   "cell_type": "code",
   "execution_count": 17,
   "metadata": {},
   "outputs": [],
   "source": [
    "# sort the titles on descending order according to their ratings by using selection sort algorithm\n",
    "\n",
    "i = 0\n",
    "while i <= len(ratings_same)-2:\n",
    "    maximum = i\n",
    "    j = i+1\n",
    "    while j <= len(ratings_same)-1:\n",
    "        if ratings_same[maximum] < ratings_same[j]:\n",
    "            maximum = j\n",
    "        j += 1\n",
    "    ratings_same[maximum], ratings_same[i] = ratings_same[i], ratings_same[maximum]\n",
    "    same[maximum], same[i] = same[i], same[maximum]\n",
    "    i += 1"
   ]
  },
  {
   "cell_type": "code",
   "execution_count": 18,
   "metadata": {
    "scrolled": true
   },
   "outputs": [
    {
     "data": {
      "text/html": [
       "<div>\n",
       "<style scoped>\n",
       "    .dataframe tbody tr th:only-of-type {\n",
       "        vertical-align: middle;\n",
       "    }\n",
       "\n",
       "    .dataframe tbody tr th {\n",
       "        vertical-align: top;\n",
       "    }\n",
       "\n",
       "    .dataframe thead th {\n",
       "        text-align: right;\n",
       "    }\n",
       "</style>\n",
       "<table border=\"1\" class=\"dataframe\">\n",
       "  <thead>\n",
       "    <tr style=\"text-align: right;\">\n",
       "      <th></th>\n",
       "      <th>recommended</th>\n",
       "      <th>IMDB</th>\n",
       "    </tr>\n",
       "  </thead>\n",
       "  <tbody>\n",
       "    <tr>\n",
       "      <th>0</th>\n",
       "      <td>Witness for the Prosecution (1957)</td>\n",
       "      <td>9.9</td>\n",
       "    </tr>\n",
       "    <tr>\n",
       "      <th>1</th>\n",
       "      <td>Client, The (1994)</td>\n",
       "      <td>9.4</td>\n",
       "    </tr>\n",
       "    <tr>\n",
       "      <th>2</th>\n",
       "      <td>Missing (1982)</td>\n",
       "      <td>9.1</td>\n",
       "    </tr>\n",
       "    <tr>\n",
       "      <th>3</th>\n",
       "      <td>Village, The (2004)</td>\n",
       "      <td>8.8</td>\n",
       "    </tr>\n",
       "    <tr>\n",
       "      <th>4</th>\n",
       "      <td>Good German, The (2006)</td>\n",
       "      <td>8.6</td>\n",
       "    </tr>\n",
       "    <tr>\n",
       "      <th>5</th>\n",
       "      <td>Da Vinci Code, The (2006)</td>\n",
       "      <td>8.5</td>\n",
       "    </tr>\n",
       "    <tr>\n",
       "      <th>6</th>\n",
       "      <td>I'm Not Scared (Io non ho paura) (2003)</td>\n",
       "      <td>7.9</td>\n",
       "    </tr>\n",
       "    <tr>\n",
       "      <th>7</th>\n",
       "      <td>All Good Things (2010)</td>\n",
       "      <td>7.9</td>\n",
       "    </tr>\n",
       "    <tr>\n",
       "      <th>8</th>\n",
       "      <td>True Story (2015)</td>\n",
       "      <td>7.8</td>\n",
       "    </tr>\n",
       "    <tr>\n",
       "      <th>9</th>\n",
       "      <td>Sleuth (2007)</td>\n",
       "      <td>7.7</td>\n",
       "    </tr>\n",
       "    <tr>\n",
       "      <th>10</th>\n",
       "      <td>The Great Hypnotist (2014)</td>\n",
       "      <td>7.6</td>\n",
       "    </tr>\n",
       "    <tr>\n",
       "      <th>11</th>\n",
       "      <td>Ink (2009)</td>\n",
       "      <td>7.5</td>\n",
       "    </tr>\n",
       "    <tr>\n",
       "      <th>12</th>\n",
       "      <td>Pacific Rim: Uprising (2018)</td>\n",
       "      <td>7.2</td>\n",
       "    </tr>\n",
       "    <tr>\n",
       "      <th>13</th>\n",
       "      <td>The Devil's Advocate (1997)</td>\n",
       "      <td>7.2</td>\n",
       "    </tr>\n",
       "    <tr>\n",
       "      <th>14</th>\n",
       "      <td>Z (1969)</td>\n",
       "      <td>7.1</td>\n",
       "    </tr>\n",
       "    <tr>\n",
       "      <th>15</th>\n",
       "      <td>Little Girl Who Lives Down the Lane, The (1976)</td>\n",
       "      <td>6.9</td>\n",
       "    </tr>\n",
       "    <tr>\n",
       "      <th>16</th>\n",
       "      <td>Fallen Idol, The (1948)</td>\n",
       "      <td>6.8</td>\n",
       "    </tr>\n",
       "    <tr>\n",
       "      <th>17</th>\n",
       "      <td>8MM (1999)</td>\n",
       "      <td>6.8</td>\n",
       "    </tr>\n",
       "    <tr>\n",
       "      <th>18</th>\n",
       "      <td>Blue Velvet (1986)</td>\n",
       "      <td>6.7</td>\n",
       "    </tr>\n",
       "    <tr>\n",
       "      <th>19</th>\n",
       "      <td>Moustache, La (2005)</td>\n",
       "      <td>6.6</td>\n",
       "    </tr>\n",
       "  </tbody>\n",
       "</table>\n",
       "</div>"
      ],
      "text/plain": [
       "                                         recommended  IMDB\n",
       "0                 Witness for the Prosecution (1957)   9.9\n",
       "1                                 Client, The (1994)   9.4\n",
       "2                                     Missing (1982)   9.1\n",
       "3                                Village, The (2004)   8.8\n",
       "4                            Good German, The (2006)   8.6\n",
       "5                          Da Vinci Code, The (2006)   8.5\n",
       "6            I'm Not Scared (Io non ho paura) (2003)   7.9\n",
       "7                             All Good Things (2010)   7.9\n",
       "8                                  True Story (2015)   7.8\n",
       "9                                      Sleuth (2007)   7.7\n",
       "10                        The Great Hypnotist (2014)   7.6\n",
       "11                                        Ink (2009)   7.5\n",
       "12                      Pacific Rim: Uprising (2018)   7.2\n",
       "13                       The Devil's Advocate (1997)   7.2\n",
       "14                                          Z (1969)   7.1\n",
       "15   Little Girl Who Lives Down the Lane, The (1976)   6.9\n",
       "16                           Fallen Idol, The (1948)   6.8\n",
       "17                                        8MM (1999)   6.8\n",
       "18                                Blue Velvet (1986)   6.7\n",
       "19                              Moustache, La (2005)   6.6"
      ]
     },
     "execution_count": 18,
     "metadata": {},
     "output_type": "execute_result"
    }
   ],
   "source": [
    "# recommend only the top 20 movies \n",
    "\n",
    "recommended_movies = pd.DataFrame({'recommended': same, 'IMDB': ratings_same})\n",
    "recommended_movies.head(20)"
   ]
  },
  {
   "cell_type": "markdown",
   "metadata": {},
   "source": [
    "## Task 2: Model training with Apache Spark"
   ]
  },
  {
   "cell_type": "markdown",
   "metadata": {},
   "source": [
    "In this task, i train three different models to make them familiar with the classes. I find the performance of each model separately by calculating the accuracy, the precision and the recall. The one with the best results will be the one to make the predictions on the new unseen movies. "
   ]
  },
  {
   "cell_type": "markdown",
   "metadata": {},
   "source": [
    "## 1) Load pandas dataframe 'converted' into a spark dataframe"
   ]
  },
  {
   "cell_type": "code",
   "execution_count": 19,
   "metadata": {},
   "outputs": [],
   "source": [
    "import findspark\n",
    "findspark.init()"
   ]
  },
  {
   "cell_type": "code",
   "execution_count": 20,
   "metadata": {},
   "outputs": [],
   "source": [
    "import pyspark \n",
    "from pyspark.sql import SparkSession\n",
    "\n",
    "spark = SparkSession.builder.getOrCreate()"
   ]
  },
  {
   "cell_type": "code",
   "execution_count": 21,
   "metadata": {},
   "outputs": [],
   "source": [
    "from pyspark.sql.types import *\n",
    "\n",
    "c = list(converted.columns)\n",
    "\n",
    "schema = StructType([StructField(c[0], IntegerType(), True),\n",
    "                     StructField(c[1], StringType(), True),\n",
    "                     StructField(c[2], IntegerType(), True),\n",
    "                     StructField(c[3], IntegerType(), True),\n",
    "                     StructField(c[4], IntegerType(), True),\n",
    "                     StructField(c[5], IntegerType(), True),\n",
    "                     StructField(c[6], IntegerType(), True),\n",
    "                     StructField(c[7], IntegerType(), True),\n",
    "                     StructField(c[8], IntegerType(), True),\n",
    "                     StructField(c[9], IntegerType(), True),\n",
    "                     StructField(c[10], IntegerType(), True),\n",
    "                     StructField(c[11], IntegerType(), True),\n",
    "                     StructField(c[12], IntegerType(), True),\n",
    "                     StructField(c[13], IntegerType(), True),\n",
    "                     StructField(c[14], IntegerType(), True),\n",
    "                     StructField(c[15], IntegerType(), True),\n",
    "                     StructField(c[16], IntegerType(), True),\n",
    "                     StructField(c[17], IntegerType(), True),\n",
    "                     StructField(c[18], IntegerType(), True),\n",
    "                     StructField(c[19], IntegerType(), True),\n",
    "                     StructField(c[20], IntegerType(), True),\n",
    "                     StructField(c[21], FloatType(), True),\n",
    "                     StructField(c[22], IntegerType(), True)])\n",
    "\n",
    "movies = spark.createDataFrame(converted, schema)"
   ]
  },
  {
   "cell_type": "code",
   "execution_count": 22,
   "metadata": {},
   "outputs": [
    {
     "name": "stdout",
     "output_type": "stream",
     "text": [
      "root\n",
      " |-- Id: integer (nullable = true)\n",
      " |-- Title: string (nullable = true)\n",
      " |-- Action: integer (nullable = true)\n",
      " |-- Drama: integer (nullable = true)\n",
      " |-- Adventure: integer (nullable = true)\n",
      " |-- Sci-Fi: integer (nullable = true)\n",
      " |-- Fantasy: integer (nullable = true)\n",
      " |-- Comedy: integer (nullable = true)\n",
      " |-- Romance: integer (nullable = true)\n",
      " |-- Thriller: integer (nullable = true)\n",
      " |-- Crime: integer (nullable = true)\n",
      " |-- War: integer (nullable = true)\n",
      " |-- Mystery: integer (nullable = true)\n",
      " |-- Animation: integer (nullable = true)\n",
      " |-- Children: integer (nullable = true)\n",
      " |-- Horror: integer (nullable = true)\n",
      " |-- Musical: integer (nullable = true)\n",
      " |-- Documentary: integer (nullable = true)\n",
      " |-- IMAX: integer (nullable = true)\n",
      " |-- Western: integer (nullable = true)\n",
      " |-- Film-Noir: integer (nullable = true)\n",
      " |-- Ratings: float (nullable = true)\n",
      " |-- Label: integer (nullable = true)\n",
      "\n"
     ]
    }
   ],
   "source": [
    "movies.printSchema()"
   ]
  },
  {
   "cell_type": "code",
   "execution_count": 23,
   "metadata": {},
   "outputs": [
    {
     "name": "stdout",
     "output_type": "stream",
     "text": [
      "+---+--------------------+------+-----+---------+------+-------+------+-------+--------+-----+---+-------+---------+--------+------+-------+-----------+----+-------+---------+-------+-----+\n",
      "| Id|               Title|Action|Drama|Adventure|Sci-Fi|Fantasy|Comedy|Romance|Thriller|Crime|War|Mystery|Animation|Children|Horror|Musical|Documentary|IMAX|Western|Film-Noir|Ratings|Label|\n",
      "+---+--------------------+------+-----+---------+------+-------+------+-------+--------+-----+---+-------+---------+--------+------+-------+-----------+----+-------+---------+-------+-----+\n",
      "|  1|    Toy Story (1995)|     0|    0|        1|     0|      1|     1|      0|       0|    0|  0|      0|        1|       1|     0|      0|          0|   0|      0|        0|    2.0|    0|\n",
      "|  2|      Jumanji (1995)|     0|    0|        1|     0|      1|     0|      0|       0|    0|  0|      0|        0|       1|     0|      0|          0|   0|      0|        0|    4.1|    1|\n",
      "|  3| Grumpier Old Men...|     0|    0|        0|     0|      0|     1|      1|       0|    0|  0|      0|        0|       0|     0|      0|          0|   0|      0|        0|    4.8|    1|\n",
      "|  4| Waiting to Exhal...|     0|    1|        0|     0|      0|     1|      1|       0|    0|  0|      0|        0|       0|     0|      0|          0|   0|      0|        0|    2.6|    1|\n",
      "|  5| Father of the Br...|     0|    0|        0|     0|      0|     1|      0|       0|    0|  0|      0|        0|       0|     0|      0|          0|   0|      0|        0|    8.6|    3|\n",
      "+---+--------------------+------+-----+---------+------+-------+------+-------+--------+-----+---+-------+---------+--------+------+-------+-----------+----+-------+---------+-------+-----+\n",
      "only showing top 5 rows\n",
      "\n"
     ]
    }
   ],
   "source": [
    "movies.show(5)"
   ]
  },
  {
   "cell_type": "markdown",
   "metadata": {},
   "source": [
    "## 2) Vector transformation of feature set"
   ]
  },
  {
   "cell_type": "code",
   "execution_count": 24,
   "metadata": {},
   "outputs": [
    {
     "name": "stdout",
     "output_type": "stream",
     "text": [
      "+---+--------------------+------+-----+---------+------+-------+------+-------+--------+-----+---+-------+---------+--------+------+-------+-----------+----+-------+---------+-------+-----+--------------------+\n",
      "| Id|               Title|Action|Drama|Adventure|Sci-Fi|Fantasy|Comedy|Romance|Thriller|Crime|War|Mystery|Animation|Children|Horror|Musical|Documentary|IMAX|Western|Film-Noir|Ratings|Label|            features|\n",
      "+---+--------------------+------+-----+---------+------+-------+------+-------+--------+-----+---+-------+---------+--------+------+-------+-----------+----+-------+---------+-------+-----+--------------------+\n",
      "|  1|    Toy Story (1995)|     0|    0|        1|     0|      1|     1|      0|       0|    0|  0|      0|        1|       1|     0|      0|          0|   0|      0|        0|    2.0|    0|               [2.0]|\n",
      "|  2|      Jumanji (1995)|     0|    0|        1|     0|      1|     0|      0|       0|    0|  0|      0|        0|       1|     0|      0|          0|   0|      0|        0|    4.1|    1| [4.099999904632568]|\n",
      "|  3| Grumpier Old Men...|     0|    0|        0|     0|      0|     1|      1|       0|    0|  0|      0|        0|       0|     0|      0|          0|   0|      0|        0|    4.8|    1| [4.800000190734863]|\n",
      "|  4| Waiting to Exhal...|     0|    1|        0|     0|      0|     1|      1|       0|    0|  0|      0|        0|       0|     0|      0|          0|   0|      0|        0|    2.6|    1|[2.5999999046325684]|\n",
      "|  5| Father of the Br...|     0|    0|        0|     0|      0|     1|      0|       0|    0|  0|      0|        0|       0|     0|      0|          0|   0|      0|        0|    8.6|    3| [8.600000381469727]|\n",
      "+---+--------------------+------+-----+---------+------+-------+------+-------+--------+-----+---+-------+---------+--------+------+-------+-----------+----+-------+---------+-------+-----+--------------------+\n",
      "only showing top 5 rows\n",
      "\n"
     ]
    }
   ],
   "source": [
    "from pyspark.ml.feature import VectorAssembler\n",
    "\n",
    "required_features = ['Ratings']\n",
    "assembler = VectorAssembler(inputCols=required_features, outputCol='features')\n",
    "transformed_data = assembler.transform(movies)\n",
    "transformed_data.show(5)"
   ]
  },
  {
   "cell_type": "markdown",
   "metadata": {},
   "source": [
    "## 3) Data spliting"
   ]
  },
  {
   "cell_type": "code",
   "execution_count": 25,
   "metadata": {},
   "outputs": [],
   "source": [
    "# split the data into training and test set\n",
    "\n",
    "(training_data, test_data) = transformed_data.randomSplit([0.8,0.2])"
   ]
  },
  {
   "cell_type": "code",
   "execution_count": 26,
   "metadata": {},
   "outputs": [
    {
     "data": {
      "text/plain": [
       "'7845'"
      ]
     },
     "execution_count": 26,
     "metadata": {},
     "output_type": "execute_result"
    }
   ],
   "source": [
    "str(training_data.count())"
   ]
  },
  {
   "cell_type": "code",
   "execution_count": 27,
   "metadata": {},
   "outputs": [
    {
     "data": {
      "text/plain": [
       "'1965'"
      ]
     },
     "execution_count": 27,
     "metadata": {},
     "output_type": "execute_result"
    }
   ],
   "source": [
    "str(test_data.count())"
   ]
  },
  {
   "cell_type": "markdown",
   "metadata": {},
   "source": [
    "## 4) Train the models"
   ]
  },
  {
   "cell_type": "markdown",
   "metadata": {},
   "source": [
    "Random forest, decision tree and logistic regression classifiers are going to be used for the training. "
   ]
  },
  {
   "cell_type": "code",
   "execution_count": 28,
   "metadata": {},
   "outputs": [],
   "source": [
    "from pyspark.ml.evaluation import MulticlassClassificationEvaluator"
   ]
  },
  {
   "cell_type": "markdown",
   "metadata": {},
   "source": [
    "## Random Forest Classifier"
   ]
  },
  {
   "cell_type": "code",
   "execution_count": 29,
   "metadata": {},
   "outputs": [
    {
     "name": "stdout",
     "output_type": "stream",
     "text": [
      "Random Forest classifier Accuracy: 0.96743\n",
      "Random Forest classifier Precision: 0.968364\n",
      "Random Forest classifier Recall: 0.96743\n"
     ]
    }
   ],
   "source": [
    "from pyspark.ml.classification import RandomForestClassifier\n",
    "\n",
    "rf = RandomForestClassifier(labelCol='Label',featuresCol='features')\n",
    "rfModel = rf.fit(training_data)\n",
    "rf_predictions = rfModel.transform(test_data)\n",
    "\n",
    "multi_evaluator_rf_accuracy = MulticlassClassificationEvaluator(labelCol='Label',metricName='accuracy')\n",
    "multi_evaluator_rf_precision = MulticlassClassificationEvaluator(labelCol='Label',metricName='weightedPrecision')\n",
    "multi_evaluator_rf_recall = MulticlassClassificationEvaluator(labelCol='Label',metricName='weightedRecall')\n",
    "\n",
    "print('Random Forest classifier Accuracy:', round(multi_evaluator_rf_accuracy.evaluate(rf_predictions),6))\n",
    "print('Random Forest classifier Precision:', round(multi_evaluator_rf_precision.evaluate(rf_predictions),6))\n",
    "print('Random Forest classifier Recall:', round(multi_evaluator_rf_recall.evaluate(rf_predictions),6))"
   ]
  },
  {
   "cell_type": "markdown",
   "metadata": {},
   "source": [
    "## Logistic Regression Classifier"
   ]
  },
  {
   "cell_type": "code",
   "execution_count": 30,
   "metadata": {},
   "outputs": [
    {
     "name": "stdout",
     "output_type": "stream",
     "text": [
      "Logistic Regression classifier Accuracy: 1.0\n",
      "Logistic Regression classifier Precision: 1.0\n",
      "Logistic Regression classifier Recall: 1.0\n"
     ]
    }
   ],
   "source": [
    "from pyspark.ml.classification import LogisticRegression\n",
    "                                                                                \n",
    "lr = LogisticRegression(featuresCol='features',labelCol='Label')\n",
    "lrModel = lr.fit(training_data)\n",
    "lr_predictions = lrModel.transform(test_data)\n",
    "                               \n",
    "multi_evaluator_lr_accuracy = MulticlassClassificationEvaluator(labelCol='Label',metricName='accuracy')\n",
    "multi_evaluator_lr_precision = MulticlassClassificationEvaluator(labelCol='Label',metricName='weightedPrecision')\n",
    "multi_evaluator_lr_recall = MulticlassClassificationEvaluator(labelCol='Label',metricName='weightedRecall')\n",
    "                                                            \n",
    "print('Logistic Regression classifier Accuracy:', round(multi_evaluator_lr_accuracy.evaluate(lr_predictions),6))\n",
    "print('Logistic Regression classifier Precision:', round(multi_evaluator_lr_precision.evaluate(lr_predictions),6))\n",
    "print('Logistic Regression classifier Recall:', round(multi_evaluator_lr_recall.evaluate(lr_predictions),6))"
   ]
  },
  {
   "cell_type": "markdown",
   "metadata": {},
   "source": [
    "## Decision Tree Classifier"
   ]
  },
  {
   "cell_type": "code",
   "execution_count": 31,
   "metadata": {},
   "outputs": [
    {
     "name": "stdout",
     "output_type": "stream",
     "text": [
      "Decision Tree classifier Accuracy: 0.96743\n",
      "Decision Tree classifier Precision: 0.968364\n",
      "Decision Tree classifier Recall: 0.96743\n"
     ]
    }
   ],
   "source": [
    "from pyspark.ml.classification import DecisionTreeClassifier\n",
    "\n",
    "dt = DecisionTreeClassifier(featuresCol='features',labelCol='Label')\n",
    "dtModel = dt.fit(training_data)\n",
    "dt_predictions = dtModel.transform(test_data)\n",
    "\n",
    "multi_evaluator_dt_accuracy = MulticlassClassificationEvaluator(labelCol='Label',metricName='accuracy')\n",
    "multi_evaluator_dt_precision = MulticlassClassificationEvaluator(labelCol='Label',metricName='weightedPrecision')\n",
    "multi_evaluator_dt_recall = MulticlassClassificationEvaluator(labelCol='Label',metricName='weightedRecall')\n",
    "\n",
    "print('Decision Tree classifier Accuracy:', round(multi_evaluator_dt_accuracy.evaluate(dt_predictions),6))\n",
    "print('Decision Tree classifier Precision:', round(multi_evaluator_dt_precision.evaluate(dt_predictions),6))\n",
    "print('Decision Tree classifier Recall:', round(multi_evaluator_dt_recall.evaluate(dt_predictions),6))"
   ]
  },
  {
   "cell_type": "markdown",
   "metadata": {},
   "source": [
    "## Conclusion"
   ]
  },
  {
   "cell_type": "markdown",
   "metadata": {},
   "source": [
    "The logistic regression classifier has the best results. This model is going to make predictions on new unseen data."
   ]
  }
 ],
 "metadata": {
  "kernelspec": {
   "display_name": "Python 3",
   "language": "python",
   "name": "python3"
  },
  "language_info": {
   "codemirror_mode": {
    "name": "ipython",
    "version": 3
   },
   "file_extension": ".py",
   "mimetype": "text/x-python",
   "name": "python",
   "nbconvert_exporter": "python",
   "pygments_lexer": "ipython3",
   "version": "3.7.1"
  }
 },
 "nbformat": 4,
 "nbformat_minor": 4
}
